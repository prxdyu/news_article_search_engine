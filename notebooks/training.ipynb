{
 "cells": [
  {
   "cell_type": "code",
   "execution_count": 1,
   "id": "9fb8c1cb-604a-47e3-b1fc-be8bdc86be57",
   "metadata": {},
   "outputs": [
    {
     "name": "stderr",
     "output_type": "stream",
     "text": [
      "[nltk_data] Downloading package stopwords to\n",
      "[nltk_data]     C:\\Users\\prady\\AppData\\Roaming\\nltk_data...\n",
      "[nltk_data]   Package stopwords is already up-to-date!\n"
     ]
    }
   ],
   "source": [
    "# importing the required libraries\n",
    "import pandas as pd\n",
    "import numpy as np\n",
    "import boto3\n",
    "import seaborn as sns\n",
    "import matplotlib.pyplot as plt\n",
    "from src.utils.utils import *\n",
    "from src.components.data_preprocessing import DataPreProcessing\n",
    "from src.components.embedding_generation import EmbeddingGeneration\n",
    "from src.components.annoy_indexing import AnnoyIndexer\n",
    "\n",
    "\n",
    "import warnings\n",
    "warnings.filterwarnings('ignore', category=UserWarning, module='seaborn')\n",
    "warnings.filterwarnings('ignore', category=UserWarning, module='matplotlib')"
   ]
  },
  {
   "cell_type": "code",
   "execution_count": 2,
   "id": "727cf99e-87eb-4b10-b490-333d462e2778",
   "metadata": {},
   "outputs": [],
   "source": [
    "# calling the function to downloading data\n",
    "get_data_from_s3(path='../data/raw.csv',filename='raw.csv')"
   ]
  },
  {
   "cell_type": "code",
   "execution_count": 3,
   "id": "0a17c668-11b3-4017-95a3-a3ce08697ec3",
   "metadata": {},
   "outputs": [],
   "source": [
    "# 1. Preprocess the data\n",
    "obj=DataPreProcessing()\n",
    "preprocessed_data_path = obj.initiate_data_processing(\"../data/raw.csv\")"
   ]
  },
  {
   "cell_type": "code",
   "execution_count": 4,
   "id": "002dffd9-b10b-4116-a068-dd8d83b61338",
   "metadata": {},
   "outputs": [],
   "source": [
    "# 2. Generate embeddings\n",
    "embedding_generation = EmbeddingGeneration()\n",
    "embeddings_path = embedding_generation.initiate_embedding_generation(processed_data_path)"
   ]
  },
  {
   "cell_type": "code",
   "execution_count": 5,
   "id": "d7bed078-b875-45af-80a9-7c1d5ecc69c7",
   "metadata": {},
   "outputs": [],
   "source": [
    "# 3. Build Annoy Index\n",
    "indexing = AnnoyIndexer()\n",
    "index_path = indexing.build_index(embeddings_path)"
   ]
  },
  {
   "cell_type": "code",
   "execution_count": 12,
   "id": "4c6b8ee5-4b94-4b58-9eeb-e7698d910f59",
   "metadata": {},
   "outputs": [
    {
     "name": "stdout",
     "output_type": "stream",
     "text": [
      "[{'query': 'women entrepreneuship in india',\n",
      "  'results': [{'article_id': 860,\n",
      "               'category': 'business, finance & economics',\n",
      "               'score': 0.9434589743614197,\n",
      "               'subcategory': 'business - female specific',\n",
      "               'title': 'Meet Kunj Yadav, an entrepreneur inspiring women to '\n",
      "                        'achieve their dreams'},\n",
      "              {'article_id': 11030,\n",
      "               'category': 'trade & professional',\n",
      "               'score': 0.9397159814834595,\n",
      "               'subcategory': 'crime, police & courts',\n",
      "               'title': 'Indian police use facial recognition to persecute '\n",
      "                        'Muslims and other marginalized communities'},\n",
      "              {'article_id': 4340,\n",
      "               'category': 'general news & current affairs',\n",
      "               'score': 0.8683447241783142,\n",
      "               'subcategory': 'feminism',\n",
      "               'title': 'The women’s burden: Real stories bring alive the '\n",
      "                        'struggles that working women face'}]}]\n"
     ]
    }
   ],
   "source": [
    "# 4. Searching\n",
    "from pprint import pprint\n",
    "from src.components.annoy_indexing import AnnoyIndexer\n",
    "from src.pipeline.search_pipeline import SearchPipeline\n",
    "\n",
    "index = AnnoyIndexer()\n",
    "index.load_index('../artifacts/annoy_index.ann')\n",
    "\n",
    "# loading the metadata about articles\n",
    "with open('../artifacts/metadata.json','r') as file:\n",
    "    metadata = json.load(file)\n",
    "\n",
    "# Load the data from the pickle file\n",
    "with open('../artifacts/section_article_mapping.pkl', 'rb') as file:\n",
    "    mapping = pickle.load(file)\n",
    "\n",
    "\n",
    "# queries = [lookup[i][\"title\"] for i in (0, 1)]\n",
    "query = [\"women entrepreneuship in india\"]\n",
    "k=3\n",
    "\n",
    "\n",
    "# searching for the relevant articles\n",
    "searcher = SearchPipeline()\n",
    "results = searcher.search(index, query, k, mapping, metadata)\n",
    "pprint(results)\n"
   ]
  },
  {
   "cell_type": "code",
   "execution_count": null,
   "id": "88da8b3b-c5d5-4009-a2cb-671ae3e29b7d",
   "metadata": {},
   "outputs": [],
   "source": []
  }
 ],
 "metadata": {
  "kernelspec": {
   "display_name": "search_relevancy",
   "language": "python",
   "name": "myenv"
  },
  "language_info": {
   "codemirror_mode": {
    "name": "ipython",
    "version": 3
   },
   "file_extension": ".py",
   "mimetype": "text/x-python",
   "name": "python",
   "nbconvert_exporter": "python",
   "pygments_lexer": "ipython3",
   "version": "3.8.19"
  }
 },
 "nbformat": 4,
 "nbformat_minor": 5
}
