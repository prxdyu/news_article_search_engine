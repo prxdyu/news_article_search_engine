{
 "cells": [
  {
   "cell_type": "code",
   "execution_count": 4,
   "id": "e30453c6-fc58-410b-ac15-ad75f236e483",
   "metadata": {},
   "outputs": [],
   "source": [
    "# importing the required libraries\n",
    "import pandas as pd\n",
    "import numpy as np\n",
    "import boto3\n",
    "import seaborn as sns\n",
    "import matplotlib.pyplot as plt\n",
    "\n",
    "import warnings\n",
    "warnings.filterwarnings('ignore', category=UserWarning, module='seaborn')\n",
    "warnings.filterwarnings('ignore', category=UserWarning, module='matplotlib')\n"
   ]
  },
  {
   "cell_type": "code",
   "execution_count": null,
   "id": "911d9cdd-0c88-4e40-8e07-50817e7ae41d",
   "metadata": {},
   "outputs": [],
   "source": [
    "# Load the .env file to access the environment variables\n",
    "from dotenv import load_dotenv\n",
    "load_dotenv()\n",
    "\n",
    "AWS_ACCESS_KEY_ID = os.getenv('AWS_ACCESS_KEY_ID')\n",
    "AWS_SECRET_ACCESS_KEY = os.getenv('AWS_SECRET_ACCESS_KEY')\n",
    "REGION_NAME = os.getenv('REGION_NAME')\n"
   ]
  },
  {
   "cell_type": "markdown",
   "id": "d68d0873-d6b3-4d35-8ca4-5b6e10b21843",
   "metadata": {},
   "source": [
    "#### Downloading the data from AWS S3 bucket"
   ]
  },
  {
   "cell_type": "code",
   "execution_count": 5,
   "id": "6c23a0dc-abe0-4f11-a357-0c75a41df3b1",
   "metadata": {},
   "outputs": [],
   "source": [
    "# defining a function to get data from aws s3\n",
    "def get_data_from_s3(path):\n",
    "    \n",
    "    # Configure boto3 to use your AWS credentials\n",
    "    session = boto3.Session(\n",
    "        aws_access_key_id=AWS_ACCESS_KEY_ID,\n",
    "        aws_secret_access_key=AWS_SECRET_ACCESS_KEY,\n",
    "        region_name=REGION_NAME\n",
    "    )\n",
    "    \n",
    "    # Create an S3 client\n",
    "    s3 = session.client('s3')\n",
    "    \n",
    "    # Specify the bucket name and the object key (file name)\n",
    "    bucket_name = 'search-relevancy'\n",
    "    file_name = 'raw.csv'\n",
    "    \n",
    "    # Download the file\n",
    "    s3.download_file(bucket_name, file_name,path)\n",
    "    \n",
    "    print(f\"{file_name} has been downloaded from bucket {bucket_name} and saved as raw.csv\")"
   ]
  },
  {
   "cell_type": "code",
   "execution_count": 6,
   "id": "e11c1051-e16c-4f52-8247-dba1509d1b60",
   "metadata": {},
   "outputs": [
    {
     "name": "stdout",
     "output_type": "stream",
     "text": [
      "raw.csv has been downloaded from bucket search-relevancy and saved as raw.csv\n"
     ]
    }
   ],
   "source": [
    "# calling the function to downloading data\n",
    "get_data_from_s3(path='../data/raw.csv')"
   ]
  },
  {
   "cell_type": "markdown",
   "id": "d18d15d2-ed36-4346-a7bb-798dfa17bcdd",
   "metadata": {},
   "source": [
    "#### Exploratory Data Analysis"
   ]
  },
  {
   "cell_type": "code",
   "execution_count": 2,
   "id": "f4d9216d-87fd-4b40-bbb9-cb3efb01bf8e",
   "metadata": {},
   "outputs": [],
   "source": [
    "# importing the data\n",
    "df = pd.read_csv(\"../data/raw.csv\")"
   ]
  },
  {
   "cell_type": "code",
   "execution_count": 3,
   "id": "b19e9ca5-9ddb-4025-ae76-d18764c3c1e1",
   "metadata": {},
   "outputs": [
    {
     "data": {
      "text/html": [
       "<div>\n",
       "<style scoped>\n",
       "    .dataframe tbody tr th:only-of-type {\n",
       "        vertical-align: middle;\n",
       "    }\n",
       "\n",
       "    .dataframe tbody tr th {\n",
       "        vertical-align: top;\n",
       "    }\n",
       "\n",
       "    .dataframe thead th {\n",
       "        text-align: right;\n",
       "    }\n",
       "</style>\n",
       "<table border=\"1\" class=\"dataframe\">\n",
       "  <thead>\n",
       "    <tr style=\"text-align: right;\">\n",
       "      <th></th>\n",
       "      <th>article_id</th>\n",
       "      <th>article_id.1</th>\n",
       "      <th>category</th>\n",
       "      <th>subcategory</th>\n",
       "      <th>title</th>\n",
       "      <th>published date</th>\n",
       "      <th>text</th>\n",
       "      <th>source</th>\n",
       "    </tr>\n",
       "  </thead>\n",
       "  <tbody>\n",
       "    <tr>\n",
       "      <th>0</th>\n",
       "      <td>0</td>\n",
       "      <td>0</td>\n",
       "      <td>asia media</td>\n",
       "      <td>asia - business &amp; finance</td>\n",
       "      <td>EY achieves highest growth in nearly two decad...</td>\n",
       "      <td>2022-09-21 07:00:00</td>\n",
       "      <td>US$3.2b invested in audit quality, innovation,...</td>\n",
       "      <td>{'href': 'https://www.ey.com', 'title': 'Ernst...</td>\n",
       "    </tr>\n",
       "    <tr>\n",
       "      <th>1</th>\n",
       "      <td>1</td>\n",
       "      <td>1</td>\n",
       "      <td>asia media</td>\n",
       "      <td>asia - business &amp; finance</td>\n",
       "      <td>Illuminate Financial Announces Strategic Partn...</td>\n",
       "      <td>2022-11-29 08:00:00</td>\n",
       "      <td>LONDON, Nov. 29, 2022 /PRNewswire/ -- Illumina...</td>\n",
       "      <td>{'href': 'https://finance.yahoo.com', 'title':...</td>\n",
       "    </tr>\n",
       "    <tr>\n",
       "      <th>2</th>\n",
       "      <td>2</td>\n",
       "      <td>2</td>\n",
       "      <td>asia media</td>\n",
       "      <td>asia - business &amp; finance</td>\n",
       "      <td>Philip Morris International Announces New Regi...</td>\n",
       "      <td>2022-11-25 08:00:00</td>\n",
       "      <td>LAUSANNE, Switzerland, November 25, 2022--(BUS...</td>\n",
       "      <td>{'href': 'https://finance.yahoo.com', 'title':...</td>\n",
       "    </tr>\n",
       "    <tr>\n",
       "      <th>3</th>\n",
       "      <td>3</td>\n",
       "      <td>3</td>\n",
       "      <td>asia media</td>\n",
       "      <td>asia - business &amp; finance</td>\n",
       "      <td>18 Thailand Companies and Entrepreneurs Win Co...</td>\n",
       "      <td>2022-07-02 07:00:00</td>\n",
       "      <td>SINGAPORE, July 2, 2022 /PRNewswire/ -- Mr. Wi...</td>\n",
       "      <td>{'href': 'https://finance.yahoo.com', 'title':...</td>\n",
       "    </tr>\n",
       "    <tr>\n",
       "      <th>4</th>\n",
       "      <td>4</td>\n",
       "      <td>4</td>\n",
       "      <td>asia media</td>\n",
       "      <td>asia - business &amp; finance</td>\n",
       "      <td>Meihua International Medical Technologies Co.,...</td>\n",
       "      <td>2022-12-05 08:00:00</td>\n",
       "      <td>YANGZHOU, China, Dec. 5, 2022 /PRNewswire/ -- ...</td>\n",
       "      <td>{'href': 'https://finance.yahoo.com', 'title':...</td>\n",
       "    </tr>\n",
       "  </tbody>\n",
       "</table>\n",
       "</div>"
      ],
      "text/plain": [
       "   article_id  article_id.1    category                subcategory  \\\n",
       "0           0             0  asia media  asia - business & finance   \n",
       "1           1             1  asia media  asia - business & finance   \n",
       "2           2             2  asia media  asia - business & finance   \n",
       "3           3             3  asia media  asia - business & finance   \n",
       "4           4             4  asia media  asia - business & finance   \n",
       "\n",
       "                                               title       published date  \\\n",
       "0  EY achieves highest growth in nearly two decad...  2022-09-21 07:00:00   \n",
       "1  Illuminate Financial Announces Strategic Partn...  2022-11-29 08:00:00   \n",
       "2  Philip Morris International Announces New Regi...  2022-11-25 08:00:00   \n",
       "3  18 Thailand Companies and Entrepreneurs Win Co...  2022-07-02 07:00:00   \n",
       "4  Meihua International Medical Technologies Co.,...  2022-12-05 08:00:00   \n",
       "\n",
       "                                                text  \\\n",
       "0  US$3.2b invested in audit quality, innovation,...   \n",
       "1  LONDON, Nov. 29, 2022 /PRNewswire/ -- Illumina...   \n",
       "2  LAUSANNE, Switzerland, November 25, 2022--(BUS...   \n",
       "3  SINGAPORE, July 2, 2022 /PRNewswire/ -- Mr. Wi...   \n",
       "4  YANGZHOU, China, Dec. 5, 2022 /PRNewswire/ -- ...   \n",
       "\n",
       "                                              source  \n",
       "0  {'href': 'https://www.ey.com', 'title': 'Ernst...  \n",
       "1  {'href': 'https://finance.yahoo.com', 'title':...  \n",
       "2  {'href': 'https://finance.yahoo.com', 'title':...  \n",
       "3  {'href': 'https://finance.yahoo.com', 'title':...  \n",
       "4  {'href': 'https://finance.yahoo.com', 'title':...  "
      ]
     },
     "execution_count": 3,
     "metadata": {},
     "output_type": "execute_result"
    }
   ],
   "source": [
    "df.head()"
   ]
  },
  {
   "cell_type": "code",
   "execution_count": 4,
   "id": "b769e9c8-cb8f-4289-90cc-25a548ac65f2",
   "metadata": {},
   "outputs": [
    {
     "data": {
      "text/plain": [
       "(13322, 8)"
      ]
     },
     "execution_count": 4,
     "metadata": {},
     "output_type": "execute_result"
    }
   ],
   "source": [
    "# checking the shape of the dataframe\n",
    "df.shape"
   ]
  },
  {
   "cell_type": "code",
   "execution_count": 5,
   "id": "1aa9b4c8-2e5c-473b-a4d0-6079d13d2ca5",
   "metadata": {},
   "outputs": [
    {
     "name": "stdout",
     "output_type": "stream",
     "text": [
      "<class 'pandas.core.frame.DataFrame'>\n",
      "RangeIndex: 13322 entries, 0 to 13321\n",
      "Data columns (total 8 columns):\n",
      " #   Column          Non-Null Count  Dtype \n",
      "---  ------          --------------  ----- \n",
      " 0   article_id      13322 non-null  int64 \n",
      " 1   article_id.1    13322 non-null  int64 \n",
      " 2   category        13322 non-null  object\n",
      " 3   subcategory     13322 non-null  object\n",
      " 4   title           13322 non-null  object\n",
      " 5   published date  13322 non-null  object\n",
      " 6   text            13322 non-null  object\n",
      " 7   source          13322 non-null  object\n",
      "dtypes: int64(2), object(6)\n",
      "memory usage: 832.8+ KB\n"
     ]
    }
   ],
   "source": [
    "# basic sanity check\n",
    "df.info()"
   ]
  },
  {
   "cell_type": "code",
   "execution_count": 6,
   "id": "430d2336-19b6-4683-93cf-80d8a7e52e1d",
   "metadata": {},
   "outputs": [],
   "source": [
    "# removing the unwanted column\n",
    "df.drop(columns=['article_id.1'],inplace=True)\n",
    "\n",
    "# making the date as datetime dtype\n",
    "df['published date'] = pd.to_datetime(df['published date'])\n"
   ]
  },
  {
   "cell_type": "markdown",
   "id": "fa5c2e05-0aea-4550-9555-8ef73ffbc747",
   "metadata": {},
   "source": [
    "No Null Values in our dataset"
   ]
  },
  {
   "cell_type": "code",
   "execution_count": 13,
   "id": "02eb55b1-500b-4096-b6e2-b2215d28208f",
   "metadata": {},
   "outputs": [],
   "source": [
    "\n",
    "# filtering the rows where title or text is null\n",
    "filtering = (df['title'].isnull()) | (df['text'].isnull())\n",
    "filtered_df = df[~filtering]\n",
    "\n",
    "n_articles = filtered_df.shape[0]\n",
    "\n",
    "section_by = "
   ]
  },
  {
   "cell_type": "code",
   "execution_count": 20,
   "id": "d102bc72-968e-4720-b263-533f3419494b",
   "metadata": {},
   "outputs": [
    {
     "data": {
      "text/plain": [
       "(13322, 2)"
      ]
     },
     "execution_count": 20,
     "metadata": {},
     "output_type": "execute_result"
    }
   ],
   "source": [
    "(df[['article_id','title']].values).shape"
   ]
  },
  {
   "cell_type": "code",
   "execution_count": 42,
   "id": "21b02e42-ecf2-49e2-b611-69dd0c2bce05",
   "metadata": {},
   "outputs": [
    {
     "data": {
      "text/html": [
       "<div>\n",
       "<style scoped>\n",
       "    .dataframe tbody tr th:only-of-type {\n",
       "        vertical-align: middle;\n",
       "    }\n",
       "\n",
       "    .dataframe tbody tr th {\n",
       "        vertical-align: top;\n",
       "    }\n",
       "\n",
       "    .dataframe thead th {\n",
       "        text-align: right;\n",
       "    }\n",
       "</style>\n",
       "<table border=\"1\" class=\"dataframe\">\n",
       "  <thead>\n",
       "    <tr style=\"text-align: right;\">\n",
       "      <th></th>\n",
       "      <th>article_id</th>\n",
       "      <th>category</th>\n",
       "      <th>subcategory</th>\n",
       "      <th>title</th>\n",
       "      <th>published date</th>\n",
       "      <th>text</th>\n",
       "      <th>source</th>\n",
       "    </tr>\n",
       "  </thead>\n",
       "  <tbody>\n",
       "    <tr>\n",
       "      <th>count</th>\n",
       "      <td>13322.000000</td>\n",
       "      <td>13322</td>\n",
       "      <td>13322</td>\n",
       "      <td>13322</td>\n",
       "      <td>13322</td>\n",
       "      <td>13322</td>\n",
       "      <td>13322</td>\n",
       "    </tr>\n",
       "    <tr>\n",
       "      <th>unique</th>\n",
       "      <td>NaN</td>\n",
       "      <td>13</td>\n",
       "      <td>271</td>\n",
       "      <td>13031</td>\n",
       "      <td>NaN</td>\n",
       "      <td>13077</td>\n",
       "      <td>2103</td>\n",
       "    </tr>\n",
       "    <tr>\n",
       "      <th>top</th>\n",
       "      <td>NaN</td>\n",
       "      <td>trade &amp; professional</td>\n",
       "      <td>mapping &amp; geospatial industry</td>\n",
       "      <td>6m people set to receive £150 disability cost-...</td>\n",
       "      <td>NaN</td>\n",
       "      <td>Use one of the services below to sign in to PB...</td>\n",
       "      <td>{'href': 'https://www.fool.com', 'title': 'The...</td>\n",
       "    </tr>\n",
       "    <tr>\n",
       "      <th>freq</th>\n",
       "      <td>NaN</td>\n",
       "      <td>2063</td>\n",
       "      <td>98</td>\n",
       "      <td>6</td>\n",
       "      <td>NaN</td>\n",
       "      <td>60</td>\n",
       "      <td>1901</td>\n",
       "    </tr>\n",
       "    <tr>\n",
       "      <th>mean</th>\n",
       "      <td>6660.500000</td>\n",
       "      <td>NaN</td>\n",
       "      <td>NaN</td>\n",
       "      <td>NaN</td>\n",
       "      <td>2022-06-09 07:03:12.370064384</td>\n",
       "      <td>NaN</td>\n",
       "      <td>NaN</td>\n",
       "    </tr>\n",
       "    <tr>\n",
       "      <th>min</th>\n",
       "      <td>0.000000</td>\n",
       "      <td>NaN</td>\n",
       "      <td>NaN</td>\n",
       "      <td>NaN</td>\n",
       "      <td>2001-05-03 07:00:00</td>\n",
       "      <td>NaN</td>\n",
       "      <td>NaN</td>\n",
       "    </tr>\n",
       "    <tr>\n",
       "      <th>25%</th>\n",
       "      <td>3330.250000</td>\n",
       "      <td>NaN</td>\n",
       "      <td>NaN</td>\n",
       "      <td>NaN</td>\n",
       "      <td>2022-06-30 07:00:00</td>\n",
       "      <td>NaN</td>\n",
       "      <td>NaN</td>\n",
       "    </tr>\n",
       "    <tr>\n",
       "      <th>50%</th>\n",
       "      <td>6660.500000</td>\n",
       "      <td>NaN</td>\n",
       "      <td>NaN</td>\n",
       "      <td>NaN</td>\n",
       "      <td>2022-09-27 07:00:00</td>\n",
       "      <td>NaN</td>\n",
       "      <td>NaN</td>\n",
       "    </tr>\n",
       "    <tr>\n",
       "      <th>75%</th>\n",
       "      <td>9990.750000</td>\n",
       "      <td>NaN</td>\n",
       "      <td>NaN</td>\n",
       "      <td>NaN</td>\n",
       "      <td>2022-11-15 08:00:00</td>\n",
       "      <td>NaN</td>\n",
       "      <td>NaN</td>\n",
       "    </tr>\n",
       "    <tr>\n",
       "      <th>max</th>\n",
       "      <td>13321.000000</td>\n",
       "      <td>NaN</td>\n",
       "      <td>NaN</td>\n",
       "      <td>NaN</td>\n",
       "      <td>2023-01-13 10:44:46</td>\n",
       "      <td>NaN</td>\n",
       "      <td>NaN</td>\n",
       "    </tr>\n",
       "    <tr>\n",
       "      <th>std</th>\n",
       "      <td>3845.874478</td>\n",
       "      <td>NaN</td>\n",
       "      <td>NaN</td>\n",
       "      <td>NaN</td>\n",
       "      <td>NaN</td>\n",
       "      <td>NaN</td>\n",
       "      <td>NaN</td>\n",
       "    </tr>\n",
       "  </tbody>\n",
       "</table>\n",
       "</div>"
      ],
      "text/plain": [
       "          article_id              category                    subcategory  \\\n",
       "count   13322.000000                 13322                          13322   \n",
       "unique           NaN                    13                            271   \n",
       "top              NaN  trade & professional  mapping & geospatial industry   \n",
       "freq             NaN                  2063                             98   \n",
       "mean     6660.500000                   NaN                            NaN   \n",
       "min         0.000000                   NaN                            NaN   \n",
       "25%      3330.250000                   NaN                            NaN   \n",
       "50%      6660.500000                   NaN                            NaN   \n",
       "75%      9990.750000                   NaN                            NaN   \n",
       "max     13321.000000                   NaN                            NaN   \n",
       "std      3845.874478                   NaN                            NaN   \n",
       "\n",
       "                                                    title  \\\n",
       "count                                               13322   \n",
       "unique                                              13031   \n",
       "top     6m people set to receive £150 disability cost-...   \n",
       "freq                                                    6   \n",
       "mean                                                  NaN   \n",
       "min                                                   NaN   \n",
       "25%                                                   NaN   \n",
       "50%                                                   NaN   \n",
       "75%                                                   NaN   \n",
       "max                                                   NaN   \n",
       "std                                                   NaN   \n",
       "\n",
       "                       published date  \\\n",
       "count                           13322   \n",
       "unique                            NaN   \n",
       "top                               NaN   \n",
       "freq                              NaN   \n",
       "mean    2022-06-09 07:03:12.370064384   \n",
       "min               2001-05-03 07:00:00   \n",
       "25%               2022-06-30 07:00:00   \n",
       "50%               2022-09-27 07:00:00   \n",
       "75%               2022-11-15 08:00:00   \n",
       "max               2023-01-13 10:44:46   \n",
       "std                               NaN   \n",
       "\n",
       "                                                     text  \\\n",
       "count                                               13322   \n",
       "unique                                              13077   \n",
       "top     Use one of the services below to sign in to PB...   \n",
       "freq                                                   60   \n",
       "mean                                                  NaN   \n",
       "min                                                   NaN   \n",
       "25%                                                   NaN   \n",
       "50%                                                   NaN   \n",
       "75%                                                   NaN   \n",
       "max                                                   NaN   \n",
       "std                                                   NaN   \n",
       "\n",
       "                                                   source  \n",
       "count                                               13322  \n",
       "unique                                               2103  \n",
       "top     {'href': 'https://www.fool.com', 'title': 'The...  \n",
       "freq                                                 1901  \n",
       "mean                                                  NaN  \n",
       "min                                                   NaN  \n",
       "25%                                                   NaN  \n",
       "50%                                                   NaN  \n",
       "75%                                                   NaN  \n",
       "max                                                   NaN  \n",
       "std                                                   NaN  "
      ]
     },
     "execution_count": 42,
     "metadata": {},
     "output_type": "execute_result"
    }
   ],
   "source": [
    "df.describe(include=['int64', 'object','datetime64'])"
   ]
  },
  {
   "cell_type": "markdown",
   "id": "2bb1ba6d-267e-4a72-b6ab-f3529270ec12",
   "metadata": {},
   "source": [
    "There are no duplicates in our dataframe"
   ]
  },
  {
   "cell_type": "markdown",
   "id": "0939765e-453d-4413-abe8-f35283800429",
   "metadata": {},
   "source": [
    "### Univariate Analysis"
   ]
  },
  {
   "cell_type": "markdown",
   "id": "8fb166cc-290b-42da-8e99-c934ad44c2c6",
   "metadata": {},
   "source": [
    "#### 1. Category"
   ]
  },
  {
   "cell_type": "code",
   "execution_count": 45,
   "id": "66ff902d-a572-4e4d-9516-3098c673de88",
   "metadata": {},
   "outputs": [
    {
     "data": {
      "text/plain": [
       "['asia media',\n",
       " 'business, finance & economics',\n",
       " 'computers, science & technology',\n",
       " 'entertainment, art & culture',\n",
       " 'general news & current affairs',\n",
       " 'health & medicine',\n",
       " 'lifestyle',\n",
       " 'multicultural press',\n",
       " 'new zealand',\n",
       " 'sport & leisure',\n",
       " 'trade & professional',\n",
       " 'uk media',\n",
       " 'us media']"
      ]
     },
     "execution_count": 45,
     "metadata": {},
     "output_type": "execute_result"
    }
   ],
   "source": [
    "# checking the list of categories\n",
    "df.category.unique().tolist()"
   ]
  },
  {
   "cell_type": "code",
   "execution_count": 63,
   "id": "efa73633-dff2-4249-91b9-32ff3e1f56a4",
   "metadata": {},
   "outputs": [
    {
     "name": "stderr",
     "output_type": "stream",
     "text": [
      "C:\\Users\\prady\\AppData\\Local\\Temp\\ipykernel_7500\\3554443964.py:3: FutureWarning: \n",
      "\n",
      "Passing `palette` without assigning `hue` is deprecated and will be removed in v0.14.0. Assign the `x` variable to `hue` and set `legend=False` for the same effect.\n",
      "\n",
      "  sns.countplot(x='category', data=df,palette='colorblind')\n"
     ]
    },
    {
     "data": {
      "image/png": "[encoded data removed]",
      "text/plain": [
       "<Figure size 1200x500 with 1 Axes>"
      ]
     },
     "metadata": {},
     "output_type": "display_data"
    }
   ],
   "source": [
    "# Create a count plot\n",
    "plt.figure(figsize=(12, 5))  # Set the figure size\n",
    "sns.countplot(x='category', data=df,palette='colorblind')\n",
    "\n",
    "# Add title and labels\n",
    "plt.title('Count Plot of Categories')\n",
    "plt.xlabel('Category')\n",
    "plt.ylabel('Count')\n",
    "plt.xticks(rotation=80)\n",
    "\n",
    "\n",
    "# Show the plot\n",
    "plt.show()"
   ]
  },
  {
   "cell_type": "markdown",
   "id": "a5d9bae6-8a67-45d2-8cac-564e5d40349e",
   "metadata": {},
   "source": [
    "We have totally 13 Categories"
   ]
  },
  {
   "cell_type": "markdown",
   "id": "6394104f-2d5d-401f-8c41-a1a2239af779",
   "metadata": {},
   "source": [
    "#### 2. Subcategories"
   ]
  },
  {
   "cell_type": "code",
   "execution_count": 72,
   "id": "1e82f4c1-f7de-4a6b-8221-fe93ea897e11",
   "metadata": {},
   "outputs": [
    {
     "data": {
      "text/html": [
       "<div>\n",
       "<style scoped>\n",
       "    .dataframe tbody tr th:only-of-type {\n",
       "        vertical-align: middle;\n",
       "    }\n",
       "\n",
       "    .dataframe tbody tr th {\n",
       "        vertical-align: top;\n",
       "    }\n",
       "\n",
       "    .dataframe thead th {\n",
       "        text-align: right;\n",
       "    }\n",
       "</style>\n",
       "<table border=\"1\" class=\"dataframe\">\n",
       "  <thead>\n",
       "    <tr style=\"text-align: right;\">\n",
       "      <th></th>\n",
       "      <th>subcategory</th>\n",
       "      <th>count</th>\n",
       "    </tr>\n",
       "  </thead>\n",
       "  <tbody>\n",
       "    <tr>\n",
       "      <th>0</th>\n",
       "      <td>mapping &amp; geospatial industry</td>\n",
       "      <td>98</td>\n",
       "    </tr>\n",
       "    <tr>\n",
       "      <th>1</th>\n",
       "      <td>asia - health, medicine, pharmacy industry</td>\n",
       "      <td>90</td>\n",
       "    </tr>\n",
       "    <tr>\n",
       "      <th>2</th>\n",
       "      <td>asia - business &amp; finance</td>\n",
       "      <td>90</td>\n",
       "    </tr>\n",
       "    <tr>\n",
       "      <th>3</th>\n",
       "      <td>india - marketing, advertising trade</td>\n",
       "      <td>89</td>\n",
       "    </tr>\n",
       "    <tr>\n",
       "      <th>4</th>\n",
       "      <td>solar energy industry</td>\n",
       "      <td>88</td>\n",
       "    </tr>\n",
       "    <tr>\n",
       "      <th>5</th>\n",
       "      <td>books &amp; literature</td>\n",
       "      <td>88</td>\n",
       "    </tr>\n",
       "    <tr>\n",
       "      <th>6</th>\n",
       "      <td>celebrity gossip &amp; social</td>\n",
       "      <td>88</td>\n",
       "    </tr>\n",
       "    <tr>\n",
       "      <th>7</th>\n",
       "      <td>advertising &amp; marketing</td>\n",
       "      <td>85</td>\n",
       "    </tr>\n",
       "    <tr>\n",
       "      <th>8</th>\n",
       "      <td>aviation &amp; aerospace</td>\n",
       "      <td>85</td>\n",
       "    </tr>\n",
       "    <tr>\n",
       "      <th>9</th>\n",
       "      <td>electronics, robotics &amp; automation</td>\n",
       "      <td>85</td>\n",
       "    </tr>\n",
       "  </tbody>\n",
       "</table>\n",
       "</div>"
      ],
      "text/plain": [
       "                                  subcategory  count\n",
       "0               mapping & geospatial industry     98\n",
       "1  asia - health, medicine, pharmacy industry     90\n",
       "2                   asia - business & finance     90\n",
       "3        india - marketing, advertising trade     89\n",
       "4                       solar energy industry     88\n",
       "5                          books & literature     88\n",
       "6                   celebrity gossip & social     88\n",
       "7                     advertising & marketing     85\n",
       "8                        aviation & aerospace     85\n",
       "9          electronics, robotics & automation     85"
      ]
     },
     "execution_count": 72,
     "metadata": {},
     "output_type": "execute_result"
    }
   ],
   "source": [
    "top_10_subcategories = df.subcategory.value_counts()[:10].reset_index()\n",
    "top_10_subcategories"
   ]
  },
  {
   "cell_type": "markdown",
   "id": "b003e9e6-4de1-4dc2-b2af-663aac85f078",
   "metadata": {},
   "source": [
    "#### Taking a sample datapoint"
   ]
  },
  {
   "cell_type": "code",
   "execution_count": 78,
   "id": "a36a8f68-91a1-434d-919e-ac67946978ce",
   "metadata": {},
   "outputs": [
    {
     "name": "stdout",
     "output_type": "stream",
     "text": [
      "EY achieves highest growth in nearly two decades, reports record global revenue of US$45.4b \n",
      "\n",
      "US$3.2b invested in audit quality, innovation, technology and people in FY22 – part of a US$10b three-year commitment announced in FY21\n",
      "\n",
      "More than 81m lives positively impacted through corporate responsibility program EY Ripples\n",
      "\n",
      "Carbon negative status reached in FY21, on track to achieve net-zero ambition in 2025\n",
      "\n",
      "Looking ahead, EY leaders have reached the decision to move forward with partner votes for the initiative to separate into two distinct, multidisciplinary organizations\n",
      "\n",
      "EY today announces combined global revenues of US$45.4b for the financial year ending June 2022 (FY22), an increase of 16.4% in local currency (13.7% in US dollars). This marks one of the most successful years in the history of the organization with the highest growth seen in nearly two decades attributed to the EY NextWave strategy to deliver long-term value for EY people, clients and society.\n",
      "\n",
      "EY has today also published its Value Realized report, an expanded annual report detailing financial performance; environmental, social and governance (ESG) efforts; and key areas of collaboration to drive social impact.\n",
      "\n",
      "\n",
      "\n",
      "Carmine Di Sibio, EY Global Chairman and CEO, says:\n",
      "\n",
      "\n",
      "\n",
      "“EY has achieved significant growth and continues to operate from a place of strength. I am proud that our growth has been grounded in delivering stakeholder value, executed under the EY NextWave strategy. We have tremendous momentum right now, and growth means opportunity – for EY people, clients and broader stakeholders.”\n",
      "\n",
      "Strong performance across all service lines\n",
      "\n",
      "All EY service lines recorded strong revenue growth in FY22. Consulting experienced exceptional growth of 27.1% (local currency) and 24.5% (USD) to US$13.9b. Strategy and Transactions also grew by a significant 25.4% (local currency) and 22.8% (USD) to US$5.9b.\n",
      "\n",
      "Assurance grew by 8.9% (local currency) and 6% (USD) to US$14.4b. Revenues from the Tax service line rose by 10.5% (local currency) and 7.9% (USD) to US$11.3b.\n",
      "\n",
      "Continued investment in innovation\n",
      "\n",
      "This year EY invested US$3.2b in audit quality, innovation, technology and people – part of a US$10b three-year commitment announced in FY21. This includes US$1b in a next- generation assurance technology platform – which is part of a sustained focus on providing high-quality audits and responding rapidly to changing expectations from regulators, governments, standard setters, audit committees and boards.\n",
      "\n",
      "Growing investment in sustainability and technology training\n",
      "\n",
      "In FY22 there were EY investments of US$300m in training which delivered more than 59 hours of training per employee on average. The EY organization now offers more than 250 learning accreditations – known as EY Badges – across a range of disciplines: including artificial intelligence (AI), blockchain, impact entrepreneurship, supply chain planning, DE&I and sustainable business practices, in addition to technical training in accounting and tax.\n",
      "\n",
      "This year EY announced two new master’s degrees in collaboration with Hult International Business School. The new qualifications - in Business Analytics and Sustainability - are open and free to all EY people alongside the EY Tech MBA by Hult. 95 people graduated with an EY Tech MBA and 10 people graduated in the first cohort of the Master’s in Business Analytics this year. Cumulatively, 130 people have graduated from the Tech MBA and master’s programs. EY also opened the EY Tech University in Palo Alto, California, delivering programs in disruptive technology for senior executives and clients.\n",
      "\n",
      "\n",
      "\n",
      "Driving the sustainability agenda\n",
      "\n",
      "EY became carbon negative globally in FY21, a major and significant step toward achieving the organization’s ambition of becoming net zero in 2025. EY continues to be carbon negative and remains on track toward achieving this net-zero ambition, with a 56% reduction in emissions recorded in FY22, compared with the baseline set in FY19.\n",
      "\n",
      "\n",
      "\n",
      "In addition to progress to become more sustainable, the EY organization is focused on the development of alliances, and the creation of innovative ecosystems to address the world’s largest climate-related challenges. EY people have delivered EY Sustainability solutions to more than 3,000 clients, including technology-based solutions through alliances with Enablon, IBM, Microsoft and SAP.\n",
      "\n",
      "Additionally, EY has developed a specific methodology to provide assurance on nonfinancial reporting based on the globally accepted International Standard on Assurance Engagements (ISAE 3000) released by the International Auditing and Assurance Standards Board (IAASB). The organization has also issued new guidance on the audit of financial reporting to help EY audit teams consider the effects of climate-related risks on financial statements.\n",
      "\n",
      "\n",
      "\n",
      "A focus on EY people\n",
      "\n",
      "This year EY evolved its approach to diversity and inclusiveness by explicitly incorporating equity. Now referred to as Diversity, Equity and Inclusiveness (DE&I), this furthers the organization’s commitment to creating an inclusive environment and removing barriers to equal outcomes so everyone can thrive. EY continues to be a purpose-led organization with a culture that is strongly committed to DE&I.\n",
      "\n",
      "In FY22 35% of partner, principal, executive director, and director (PPEDD) promotions were women. Overall, there were more than 2,400 promotions to PPEDD this year - the largest ever cohort for the EY organization.\n",
      "\n",
      "\n",
      "\n",
      "To better understand and support the needs of EY people and ensure hidden inequities are uncovered and addressed, EY expanded global self-identification (Self-ID) capabilities. This increased range of choices for EY people to complete under ‘personal information’ provides EY with a deeper understanding of the EY population, strengthening EY’s commitment to driving greater equity in areas relating to career development by monitoring and analyzing demographic trends and gaps.\n",
      "\n",
      "\n",
      "\n",
      "Building a better working world\n",
      "\n",
      "The EY global organization set the ambitious goal of positively impacting one billion lives by 2030 through the EY Ripples corporate responsibility program. Since EY Ripples was established in November 2018, more than 81m lives have been positively impacted, including 27m lives in FY22. In FY22 there were total investments made up of US$159m in projects dedicated to strengthening local communities, with EY people contributing more than 1.1m hours of time to a variety of initiatives and value-in-kind projects.\n",
      "\n",
      "EY and Microsoft formed a social impact alliance in FY22 to increase social equity in the digital economy and support millions of people to enter or re-enter the workforce or build new businesses by 2025. An ongoing cross-sector collaboration with Unilever and the UK Foreign Commonwealth and Development Office (FCDO) through TRANSFORM has also positively impacted the lives of 6m people from low-income households across 13 countries since 2015.\n",
      "\n",
      "\n",
      "\n",
      "The EY organization is further collaborating to make progress on environmental challenges. EY joined over 90 organizations in the Alliance to End Plastic Waste and became a signatory to Carbon Call to encourage more organizations to report their emissions regularly, transparently and comprehensively.\n",
      "\n",
      "\n",
      "\n",
      "Looking ahead\n",
      "\n",
      "EY leaders have now recommended that the organization evolves into two distinct, multidisciplinary organizations. One would be a global network of multidisciplinary member firms committed to assurance, tax and advisory services with all the capabilities required to deliver high-quality audits, serve the public interest and focus on the CFO agenda and sustainability; and the other would be a new global corporate entity comprising Consulting, Strategy and Transactions (SaT), the majority of Tax, and managed services.\n",
      "\n",
      "In taking this bold step, EY can better serve EY people, clients and broader stakeholders in a once in a generation opportunity to redefine the future of professional services. This move will create better and more dynamic career opportunities; people can learn more, take on new roles and explore different mobility options.\n",
      "\n",
      "\n",
      "\n",
      "It would mean increased access to capital to reinvest in people and client services and solutions, with a laser focus on the issues that matter most to clients and stakeholders.\n",
      "\n",
      "\n",
      "\n",
      "It would also mean more choice for clients for both audit and transformation services, and an even stronger focus on ESG priorities, as well as more opportunities to develop new corporate responsibility programs – such as co-investments in “green” projects – so that we can make an even bigger impact in the communities in which we operate.\n",
      "\n",
      "\n",
      "\n",
      "Both organizations will be values-focused and purpose-driven, and both will preserve the strong EY culture and commitment to DE&I.\n",
      "\n",
      "\n",
      "\n",
      "EY will now engage in more detail with EY member firm partners, whose votes will determine whether we move forward.\n",
      "\n",
      "\n",
      "\n",
      "-ends-\n",
      "\n",
      "About EY\n",
      "\n",
      "EY exists to build a better working world, helping create long-term value for clients, people and society and build trust in the capital markets.\n",
      "\n",
      "Enabled by data and technology, diverse EY teams in over 150 countries provide trust through assurance and help clients grow, transform and operate.\n",
      "\n",
      "Working across assurance, consulting, law, strategy, tax and transactions, EY teams ask better questions to find new answers for the complex issues facing our world today.\n",
      "\n",
      "EY refers to the global organization, and may refer to one or more, of the member firms of Ernst & Young Global Limited, each of which is a separate legal entity. Ernst & Young Global Limited, a UK company limited by guarantee, does not provide services to clients. Information about how EY collects and uses personal data and a description of the rights individuals have under data protection legislation are available via ey.com/privacy. EY member firms do not practice law where prohibited by local laws. For more information about our organization, please visit ey.com.\n",
      "\n",
      "This news release has been issued by EYGM Limited, a member of the global EY organization that also does not provide any services to clients.\n",
      "\n",
      "B-roll footage\n",
      "\n",
      "To watch EY Global Chairman and CEO Carmine Di Sibio discuss the EY FY22 results, please visit here. \n",
      "\n"
     ]
    }
   ],
   "source": [
    "print(df.title[0],'\\n')\n",
    "print(df.text[0],'\\n')\n"
   ]
  },
  {
   "cell_type": "code",
   "execution_count": null,
   "id": "9073550f-b363-4314-bd08-fbabe3d9fa89",
   "metadata": {},
   "outputs": [],
   "source": []
  }
 ],
 "metadata": {
  "kernelspec": {
   "display_name": "Python 3 (ipykernel)",
   "language": "python",
   "name": "python3"
  },
  "language_info": {
   "codemirror_mode": {
    "name": "ipython",
    "version": 3
   },
   "file_extension": ".py",
   "mimetype": "text/x-python",
   "name": "python",
   "nbconvert_exporter": "python",
   "pygments_lexer": "ipython3",
   "version": "3.11.7"
  }
 },
 "nbformat": 4,
 "nbformat_minor": 5
}
