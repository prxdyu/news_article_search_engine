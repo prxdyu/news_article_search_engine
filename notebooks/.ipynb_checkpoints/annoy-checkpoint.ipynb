{
 "cells": [
  {
   "cell_type": "code",
   "execution_count": 1,
   "id": "1e35c548-233d-4df2-8a4c-371d14e12b66",
   "metadata": {},
   "outputs": [
    {
     "name": "stdout",
     "output_type": "stream",
     "text": [
      "Successfully built the index\n",
      "Index saved\n"
     ]
    }
   ],
   "source": [
    "from annoy import AnnoyIndex\n",
    "import json\n",
    "\n",
    "# Example configuration\n",
    "embedding_size = 384  # Example embedding size\n",
    "n_trees = 10  # Number of trees\n",
    "\n",
    "# Create a dummy embeddings dictionary\n",
    "# importing the embedding json file\n",
    "with open('../artifacts/embeddings.json', 'r') as file:\n",
    "    embeddings_dict = json.load(file)\n",
    "        \n",
    "\n",
    "# Initialize Annoy index\n",
    "index = AnnoyIndex(embedding_size, 'euclidean')\n",
    "\n",
    "# Add items to the index\n",
    "for i, embedding in embeddings_dict.items():\n",
    "    index.add_item(int(i), embedding)\n",
    "\n",
    "# Build the index\n",
    "try:\n",
    "    index.build(n_trees)\n",
    "    print(\"Successfully built the index\")\n",
    "except Exception as e:\n",
    "    print(f\"Error building the index: {e}\")\n",
    "\n",
    "# Save the index\n",
    "index.save('testing_annoy_index.ann')\n",
    "print(\"Index saved\")\n"
   ]
  },
  {
   "cell_type": "code",
   "execution_count": null,
   "id": "65baa72d-8303-4235-87f4-d0219606c4f9",
   "metadata": {},
   "outputs": [],
   "source": []
  },
  {
   "cell_type": "code",
   "execution_count": 3,
   "id": "5ee2b76e-5fd8-443b-af5e-83fc1f445931",
   "metadata": {},
   "outputs": [],
   "source": [
    "import pickle\n",
    "\n",
    "with open('../artifacts/section_article_mapping.pkl','rb') as file:\n",
    "    mapper = pickle.load(file)"
   ]
  },
  {
   "cell_type": "code",
   "execution_count": null,
   "id": "84c4d1d9-8b57-4235-b19b-015ad8bd2e6a",
   "metadata": {},
   "outputs": [],
   "source": []
  },
  {
   "cell_type": "code",
   "execution_count": 13,
   "id": "ec9e970c-bc7b-4905-995a-199efc584fa7",
   "metadata": {},
   "outputs": [],
   "source": [
    "embeds = embeddings_dict['0']"
   ]
  },
  {
   "cell_type": "raw",
   "id": "dbea2999-a71c-43bb-a087-30608f00dc8e",
   "metadata": {},
   "source": [
    "result  = index.search(embeds,5,mapper)"
   ]
  },
  {
   "cell_type": "code",
   "execution_count": 15,
   "id": "6415e5ae-d704-417a-96d8-fd8ab024aad1",
   "metadata": {},
   "outputs": [
    {
     "ename": "AttributeError",
     "evalue": "'annoy.Annoy' object has no attribute 'search'",
     "output_type": "error",
     "traceback": [
      "\u001b[1;31m---------------------------------------------------------------------------\u001b[0m",
      "\u001b[1;31mAttributeError\u001b[0m                            Traceback (most recent call last)",
      "Cell \u001b[1;32mIn[15], line 1\u001b[0m\n\u001b[1;32m----> 1\u001b[0m result  \u001b[38;5;241m=\u001b[39m \u001b[43mindex\u001b[49m\u001b[38;5;241;43m.\u001b[39;49m\u001b[43msearch\u001b[49m(embeds,\u001b[38;5;241m5\u001b[39m,mapper)\n",
      "\u001b[1;31mAttributeError\u001b[0m: 'annoy.Annoy' object has no attribute 'search'"
     ]
    }
   ],
   "source": [
    "result  = index.search(embeds,5,mapper)"
   ]
  },
  {
   "cell_type": "code",
   "execution_count": null,
   "id": "044277bd-fe4b-4ff0-a899-c047789e0be5",
   "metadata": {},
   "outputs": [],
   "source": []
  },
  {
   "cell_type": "code",
   "execution_count": null,
   "id": "f839ea95-833c-42db-b679-ff6dc57b7533",
   "metadata": {},
   "outputs": [],
   "source": []
  },
  {
   "cell_type": "code",
   "execution_count": null,
   "id": "0f250b21-1233-4278-ab75-b29a3ce02505",
   "metadata": {},
   "outputs": [],
   "source": []
  },
  {
   "cell_type": "code",
   "execution_count": null,
   "id": "6ec7d4a3-968b-41a6-832e-2820359f82fc",
   "metadata": {},
   "outputs": [],
   "source": []
  },
  {
   "cell_type": "code",
   "execution_count": null,
   "id": "df61ea9e-9ecd-4a53-883f-6e00dc46d164",
   "metadata": {},
   "outputs": [],
   "source": []
  },
  {
   "cell_type": "code",
   "execution_count": null,
   "id": "cf2f5b23-8bde-4c67-86ff-61f7cd5f3967",
   "metadata": {},
   "outputs": [],
   "source": []
  },
  {
   "cell_type": "code",
   "execution_count": null,
   "id": "a9107156-aed3-42a6-b213-4796ece3e454",
   "metadata": {},
   "outputs": [],
   "source": []
  },
  {
   "cell_type": "code",
   "execution_count": null,
   "id": "247579a0-85f5-4e43-9b45-a9e0d5459b0b",
   "metadata": {},
   "outputs": [],
   "source": []
  },
  {
   "cell_type": "code",
   "execution_count": null,
   "id": "5b474b7f-865f-49f4-b7ab-be7fe1a82b2c",
   "metadata": {},
   "outputs": [],
   "source": []
  },
  {
   "cell_type": "code",
   "execution_count": 3,
   "id": "81afda68-af1c-4bdc-ba65-018cc3fb961d",
   "metadata": {},
   "outputs": [
    {
     "ename": "NameError",
     "evalue": "name 'logging' is not defined",
     "output_type": "error",
     "traceback": [
      "\u001b[1;31m---------------------------------------------------------------------------\u001b[0m",
      "\u001b[1;31mNameError\u001b[0m                                 Traceback (most recent call last)",
      "Cell \u001b[1;32mIn[3], line 129\u001b[0m\n\u001b[0;32m    126\u001b[0m     embeddings \u001b[38;5;241m=\u001b[39m json\u001b[38;5;241m.\u001b[39mload(file)\n\u001b[0;32m    128\u001b[0m obj\u001b[38;5;241m=\u001b[39mAnnoyIndexer()\n\u001b[1;32m--> 129\u001b[0m \u001b[43mobj\u001b[49m\u001b[38;5;241;43m.\u001b[39;49m\u001b[43mbuild_index\u001b[49m\u001b[43m(\u001b[49m\u001b[43membeddings\u001b[49m\u001b[43m,\u001b[49m\u001b[38;5;124;43m\"\u001b[39;49m\u001b[38;5;124;43martifacts/test_annoy_index.ann\u001b[39;49m\u001b[38;5;124;43m\"\u001b[39;49m\u001b[43m)\u001b[49m\n",
      "Cell \u001b[1;32mIn[3], line 44\u001b[0m, in \u001b[0;36mAnnoyIndexer.build_index\u001b[1;34m(self, embeddings_dict, index_path)\u001b[0m\n\u001b[0;32m     42\u001b[0m \u001b[38;5;66;03m# creating the index\u001b[39;00m\n\u001b[0;32m     43\u001b[0m \u001b[38;5;28mself\u001b[39m\u001b[38;5;241m.\u001b[39mindex \u001b[38;5;241m=\u001b[39m AnnoyIndex(EMBEDDING_SIZE,ANNOY_METRIC)\n\u001b[1;32m---> 44\u001b[0m \u001b[43mlogging\u001b[49m\u001b[38;5;241m.\u001b[39minfo(\u001b[38;5;124m\"\u001b[39m\u001b[38;5;124mCreated an empty index\u001b[39m\u001b[38;5;124m\"\u001b[39m)\n\u001b[0;32m     46\u001b[0m \u001b[38;5;66;03m# inserting the embeddings into the index\u001b[39;00m\n\u001b[0;32m     47\u001b[0m \u001b[38;5;28;01mfor\u001b[39;00m index,embedding \u001b[38;5;129;01min\u001b[39;00m \u001b[38;5;28mzip\u001b[39m(indices,embeddings):\n",
      "\u001b[1;31mNameError\u001b[0m: name 'logging' is not defined"
     ]
    }
   ],
   "source": [
    "\"\"\" THIS PYTHON FILE CONTAINS THE CLASS FOR INDEXING EMBEDDINGS USING ANNOY\"\"\"\n",
    "\n",
    "# importing the required libraries\n",
    "import numpy as np\n",
    "from annoy import AnnoyIndex\n",
    "import os\n",
    "from functools import reduce\n",
    "import json\n",
    "\n",
    "EMBEDDING_SIZE=384\n",
    "ANNOY_METRIC = 'euclidean'\n",
    "ANNOY_N_TREE=50\n",
    "\n",
    "\n",
    "# building a class for storing and searching in the index\n",
    "class AnnoyIndexer:\n",
    "\n",
    "    \"\"\" A class to built and search an annoy index \"\"\"\n",
    "\n",
    "    def _init_(self):\n",
    "        self.index=None\n",
    "\n",
    "\n",
    "    \n",
    "    def build_index(self,embeddings_dict:dict,index_path:str):\n",
    "        \"\"\" \n",
    "        builds a similarity index using the embeddings dictionary passed \n",
    "        \n",
    "        embeddings : dictionary with index as the key and embeddings as value \n",
    "        index_path : the path where we want to store the index \n",
    "        \n",
    "        \"\"\"\n",
    "        # logging.info(\"Indexing has started\")\n",
    "\n",
    "        # extracting indices and embeddings from the dictionary\n",
    "        indices = embeddings_dict.keys()\n",
    "        embeddings = list(embeddings_dict.values())\n",
    "\n",
    "        # checking if the embedding size is equal to the embedding size specified in the CONFIG file\n",
    "        assert len(embeddings[0])==EMBEDDING_SIZE,f\"Embedding size {len(embeddings[0])} does not match with CONFIG EMBEDDING_SIZE {EMBEDDING_SIZE} \"\n",
    "\n",
    "        # creating the index\n",
    "        self.index = AnnoyIndex(EMBEDDING_SIZE,ANNOY_METRIC)\n",
    "        \n",
    "        # inserting the embeddings into the index\n",
    "        for index,embedding in zip(indices,embeddings):\n",
    "            self.index.add_item(int(index),embedding)\n",
    "\n",
    "        logging.info(\"Succesfully inserted embeddings into the index\")\n",
    "\n",
    "        # building and saving the annoy index\n",
    "        self.index.build(config.ANNOY_N_TREE)\n",
    "\n",
    "        self.index.save(index_path)\n",
    "       \n",
    "            \n",
    "       \n",
    "\n",
    "       \n",
    "\n",
    "\n",
    "    def search(self, query_embedding:list, k:int, ids_lookup:dict=None)->list:\n",
    "        \"\"\"\n",
    "        searches for the K nearest neighbors for the given query embedding\n",
    "\n",
    "        query_embedding    : list of embedding of the queries we want to search\n",
    "        k                  : no of nearest neightbor that we want to return\n",
    "        ids_lookup         : a dictionary mapping where keys are article_ids and values are the embeddings\n",
    "         \n",
    "        returns a list of tuples of the form  [ (id,distance) , (id,distance) ]\n",
    "        \"\"\"\n",
    "\n",
    "        # defining an empty list to store the results\n",
    "        results = []\n",
    "\n",
    "        for query in query_embedding:\n",
    "            # getting the k nearest neightbor for the embedding\n",
    "            result = self.index.get_nns_by_vector(query, k, include_distances=True)\n",
    "            # result will be list of tuple of lists ( [a,b,c],[0.1,0.5,0.7] ) where a,b,c are indices(section_ids) and 0.1,0.5,0.7 are the similarity metrics\n",
    "            # now we want to map the section_ids to article_ids\n",
    "            ids =list( map( \n",
    "                           lambda x:ids_lookup[str(x)],\n",
    "                            result[0]\n",
    "                          ) )\n",
    "            # sorting the result based on the metrics in descending order\n",
    "            res = sorted( set(zip(ids,result[1])) ,lambda x:x[1], reverse=True)\n",
    "\n",
    "            # appeding the nearest neighbors in the result list\n",
    "            results.append(res)\n",
    "\n",
    "        return results\n",
    "    \n",
    "\n",
    "\n",
    "\n",
    "    def save_index(self,index_path:str):\n",
    "        \"\"\"\n",
    "        saves the index to the disk\n",
    "        index_path: path where we want to store our index\n",
    "        \"\"\"\n",
    "        self.index.save(index_path)\n",
    "\n",
    "    \n",
    "\n",
    "\n",
    "    def load_index(self,index_path:str):\n",
    "        \"\"\"\n",
    "        loads the index from the disk\n",
    "        index_path  : path of the index \n",
    "        \"\"\"\n",
    "        self.index = AnnoyIndex(EMBEDDING_SIZE, ANNOY_METRIC)\n",
    "        self.index.load(index_path)\n",
    "\n",
    "\n",
    "\n",
    "\n",
    "if __name__==\"__main__\":\n",
    "\n",
    "    # importing the embedding json file\n",
    "    with open('../artifacts/embeddings.json', 'r') as file:\n",
    "        embeddings = json.load(file)\n",
    "\n",
    "    obj=AnnoyIndexer()\n",
    "    obj.build_index(embeddings,\"artifacts/test_annoy_index.ann\")\n",
    "    "
   ]
  },
  {
   "cell_type": "code",
   "execution_count": null,
   "id": "e5a06dfd-f3b9-4b66-8f0c-e0f1a14b24e7",
   "metadata": {},
   "outputs": [],
   "source": []
  }
 ],
 "metadata": {
  "kernelspec": {
   "display_name": "Python 3 (ipykernel)",
   "language": "python",
   "name": "python3"
  },
  "language_info": {
   "codemirror_mode": {
    "name": "ipython",
    "version": 3
   },
   "file_extension": ".py",
   "mimetype": "text/x-python",
   "name": "python",
   "nbconvert_exporter": "python",
   "pygments_lexer": "ipython3",
   "version": "3.12.3"
  }
 },
 "nbformat": 4,
 "nbformat_minor": 5
}
